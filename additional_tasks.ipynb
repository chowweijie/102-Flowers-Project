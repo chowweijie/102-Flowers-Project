{
 "cells": [
  {
   "cell_type": "markdown",
   "metadata": {},
   "source": [
    "# Additional Tasks"
   ]
  },
  {
   "cell_type": "markdown",
   "metadata": {},
   "source": [
    "### Import Neccessary Libraries"
   ]
  },
  {
   "cell_type": "code",
   "execution_count": 10,
   "metadata": {},
   "outputs": [
    {
     "name": "stdout",
     "output_type": "stream",
     "text": [
      "TensorFlow Version: 2.18.0\n"
     ]
    }
   ],
   "source": [
    "import tensorflow as tf\n",
    "from tensorflow import keras\n",
    "from tensorflow.keras import layers, models\n",
    "import tensorflow_datasets as tfds\n",
    "import matplotlib.pyplot as plt\n",
    "import numpy as np\n",
    "import tensorflow_probability as tfp\n",
    "import tensorflow.keras.backend as K\n",
    "print(f\"TensorFlow Version: {tf.__version__}\")"
   ]
  },
  {
   "cell_type": "markdown",
   "metadata": {},
   "source": [
    "### Data Loading and Preprocessing"
   ]
  },
  {
   "cell_type": "code",
   "execution_count": 11,
   "metadata": {},
   "outputs": [
    {
     "name": "stdout",
     "output_type": "stream",
     "text": [
      "Dataset Info:\n",
      "tfds.core.DatasetInfo(\n",
      "    name='oxford_flowers102',\n",
      "    full_name='oxford_flowers102/2.1.1',\n",
      "    description=\"\"\"\n",
      "    The Oxford Flowers 102 dataset is a consistent of 102 flower categories commonly\n",
      "    occurring in the United Kingdom. Each class consists of between 40 and 258\n",
      "    images. The images have large scale, pose and light variations. In addition,\n",
      "    there are categories that have large variations within the category and several\n",
      "    very similar categories.\n",
      "    \n",
      "    The dataset is divided into a training set, a validation set and a test set. The\n",
      "    training set and validation set each consist of 10 images per class (totalling\n",
      "    1020 images each). The test set consists of the remaining 6149 images (minimum\n",
      "    20 per class).\n",
      "    \n",
      "    Note: The dataset by default comes with a test size larger than the train size.\n",
      "    For more info see this\n",
      "    [issue](https://github.com/tensorflow/datasets/issues/3022).\n",
      "    \"\"\",\n",
      "    homepage='https://www.robots.ox.ac.uk/~vgg/data/flowers/102/',\n",
      "    data_dir='C:\\\\Users\\\\User\\\\tensorflow_datasets\\\\oxford_flowers102\\\\2.1.1',\n",
      "    file_format=tfrecord,\n",
      "    download_size=Unknown size,\n",
      "    dataset_size=331.34 MiB,\n",
      "    features=FeaturesDict({\n",
      "        'file_name': Text(shape=(), dtype=string),\n",
      "        'image': Image(shape=(None, None, 3), dtype=uint8),\n",
      "        'label': ClassLabel(shape=(), dtype=int64, num_classes=102),\n",
      "    }),\n",
      "    supervised_keys=('image', 'label'),\n",
      "    disable_shuffling=False,\n",
      "    splits={\n",
      "        'test': <SplitInfo num_examples=6149, num_shards=2>,\n",
      "        'train': <SplitInfo num_examples=1020, num_shards=1>,\n",
      "        'validation': <SplitInfo num_examples=1020, num_shards=1>,\n",
      "    },\n",
      "    citation=\"\"\"@InProceedings{Nilsback08,\n",
      "       author = \"Nilsback, M-E. and Zisserman, A.\",\n",
      "       title = \"Automated Flower Classification over a Large Number of Classes\",\n",
      "       booktitle = \"Proceedings of the Indian Conference on Computer Vision, Graphics and Image Processing\",\n",
      "       year = \"2008\",\n",
      "       month = \"Dec\"\n",
      "    }\"\"\",\n",
      ")\n",
      "Number of classes: 102\n"
     ]
    }
   ],
   "source": [
    "(ds_train, ds_val, ds_test), ds_info = tfds.load(\n",
    "    'oxford_flowers102',\n",
    "    split=['test', 'validation', 'train'],\n",
    "    shuffle_files=True,\n",
    "    as_supervised=True,  # Include labels\n",
    "    with_info=True\n",
    ")\n",
    "print(f\"Dataset Info:\\n{ds_info}\")\n",
    "num_classes = ds_info.features['label'].num_classes\n",
    "print(f\"Number of classes: {num_classes}\")"
   ]
  },
  {
   "cell_type": "code",
   "execution_count": 12,
   "metadata": {},
   "outputs": [],
   "source": [
    "IMG_SIZE = 224  # You can adjust this size\n",
    "BATCH_SIZE = 64  # You can adjust this size\n",
    "\n",
    "def preprocess(image, label):\n",
    "    # Resize and normalize images\n",
    "    image = tf.image.resize(image, (IMG_SIZE, IMG_SIZE))\n",
    "    image = image / 255.0  # Normalize to [0,1]\n",
    "    return image, label\n"
   ]
  },
  {
   "cell_type": "code",
   "execution_count": 13,
   "metadata": {},
   "outputs": [],
   "source": [
    "ds_train = ds_train.map(preprocess, num_parallel_calls=tf.data.AUTOTUNE)\n",
    "ds_unbatched = ds_train\n",
    "ds_train = ds_train.shuffle(1000).batch(BATCH_SIZE).prefetch(tf.data.AUTOTUNE)\n",
    "\n",
    "ds_val = ds_val.map(preprocess, num_parallel_calls=tf.data.AUTOTUNE)\n",
    "ds_val = ds_val.batch(BATCH_SIZE).prefetch(tf.data.AUTOTUNE)\n",
    "\n",
    "ds_test = ds_test.map(preprocess, num_parallel_calls=tf.data.AUTOTUNE)\n",
    "ds_test = ds_test.batch(BATCH_SIZE).prefetch(tf.data.AUTOTUNE)"
   ]
  },
  {
   "cell_type": "markdown",
   "metadata": {},
   "source": [
    "### Load Model"
   ]
  },
  {
   "cell_type": "code",
   "execution_count": 14,
   "metadata": {},
   "outputs": [
    {
     "name": "stdout",
     "output_type": "stream",
     "text": [
      "\u001b[1m16/16\u001b[0m \u001b[32m━━━━━━━━━━━━━━━━━━━━\u001b[0m\u001b[37m\u001b[0m \u001b[1m11s\u001b[0m 666ms/step - accuracy: 0.7103 - loss: 1.3735\n",
      "Loaded Model Test Accuracy: 69.8039\n"
     ]
    }
   ],
   "source": [
    "loaded_model = keras.models.load_model('flower_classification_model.keras')\n",
    "loaded_test_loss, loaded_test_accuracy = loaded_model.evaluate(ds_test)\n",
    "print(f'Loaded Model Test Accuracy: {loaded_test_accuracy*100:.4f}')"
   ]
  },
  {
   "cell_type": "markdown",
   "metadata": {},
   "source": [
    "## Using Few-shot learning"
   ]
  },
  {
   "cell_type": "markdown",
   "metadata": {},
   "source": [
    "### Reduce training data"
   ]
  },
  {
   "cell_type": "code",
   "execution_count": 15,
   "metadata": {},
   "outputs": [],
   "source": [
    "subset_fraction = 0.25 # Fraction of the training data to use\n",
    "ds_train_subset = ds_train.take(int(len(ds_train) * subset_fraction))"
   ]
  },
  {
   "cell_type": "markdown",
   "metadata": {},
   "source": [
    "### Training"
   ]
  },
  {
   "cell_type": "code",
   "execution_count": 16,
   "metadata": {},
   "outputs": [],
   "source": [
    "# Reinitialize the model (to ensure fair comparison)\n",
    "model_subset = models.clone_model(loaded_model)\n",
    "model_subset.compile(\n",
    "    optimizer='adam',\n",
    "    loss='sparse_categorical_crossentropy',\n",
    "    metrics=['accuracy']\n",
    ")"
   ]
  },
  {
   "cell_type": "code",
   "execution_count": 17,
   "metadata": {},
   "outputs": [],
   "source": [
    "callbacks = [\n",
    "    keras.callbacks.EarlyStopping(\n",
    "        patience=50, restore_best_weights=True),\n",
    "    keras.callbacks.ModelCheckpoint(\n",
    "        'best_model.keras', save_best_only=True),\n",
    "]"
   ]
  },
  {
   "cell_type": "code",
   "execution_count": null,
   "metadata": {},
   "outputs": [
    {
     "name": "stdout",
     "output_type": "stream",
     "text": [
      "\u001b[1m24/24\u001b[0m \u001b[32m━━━━━━━━━━━━━━━━━━━━\u001b[0m\u001b[37m\u001b[0m \u001b[1m106s\u001b[0m 4s/step - accuracy: 0.0128 - loss: 5.5330 - val_accuracy: 0.0098 - val_loss: 4.6418\n"
     ]
    }
   ],
   "source": [
    "# Train on subset\n",
    "epochs = 250  # Adjust the number of epochs as needed\n",
    "\n",
    "history_subset = model_subset.fit(\n",
    "    ds_train_subset,\n",
    "    validation_data=ds_val,\n",
    "    epochs=epochs,\n",
    "    callbacks=callbacks\n",
    ")"
   ]
  },
  {
   "cell_type": "code",
   "execution_count": 19,
   "metadata": {},
   "outputs": [],
   "source": [
    "def plot_history(history):\n",
    "    acc = history.history['accuracy']\n",
    "    val_acc = history.history['val_accuracy']\n",
    "\n",
    "    loss = history.history['loss']\n",
    "    val_loss = history.history['val_loss']\n",
    "\n",
    "    epochs_range = range(len(acc))\n",
    "\n",
    "    plt.figure(figsize=(12, 4))\n",
    "    plt.subplot(1, 2, 1)\n",
    "    plt.plot(epochs_range, acc, label='Training Accuracy')\n",
    "    plt.plot(epochs_range, val_acc, label='Validation Accuracy')\n",
    "    plt.legend(loc='lower right')\n",
    "    plt.title('Training and Validation Accuracy')\n",
    "\n",
    "    plt.subplot(1, 2, 2)\n",
    "    plt.plot(epochs_range, loss, label='Training Loss')\n",
    "    plt.plot(epochs_range, val_loss, label='Validation Loss')\n",
    "    plt.legend(loc='upper right')\n",
    "    plt.title('Training and Validation Loss')\n",
    "    plt.show()"
   ]
  },
  {
   "cell_type": "code",
   "execution_count": 20,
   "metadata": {},
   "outputs": [
    {
     "data": {
      "image/png": "[encoded data removed]",
      "text/plain": [
       "<Figure size 1200x400 with 2 Axes>"
      ]
     },
     "metadata": {},
     "output_type": "display_data"
    }
   ],
   "source": [
    "plot_history(history_subset)"
   ]
  },
  {
   "cell_type": "markdown",
   "metadata": {},
   "source": [
    "### Evaluation"
   ]
  },
  {
   "cell_type": "code",
   "execution_count": 21,
   "metadata": {},
   "outputs": [
    {
     "name": "stdout",
     "output_type": "stream",
     "text": [
      "\u001b[1m16/16\u001b[0m \u001b[32m━━━━━━━━━━━━━━━━━━━━\u001b[0m\u001b[37m\u001b[0m \u001b[1m11s\u001b[0m 690ms/step - accuracy: 0.0116 - loss: 4.6330\n",
      "Test Accuracy with 25% training data: 0.9804\n"
     ]
    }
   ],
   "source": [
    "# Evaluate\n",
    "test_loss, test_accuracy = model_subset.evaluate(ds_test)\n",
    "print(f\"Test Accuracy with {int(subset_fraction*100)}% training data: {test_accuracy*100:.4f}\")"
   ]
  },
  {
   "cell_type": "markdown",
   "metadata": {},
   "source": [
    "## Using MixUp"
   ]
  },
  {
   "cell_type": "markdown",
   "metadata": {},
   "source": [
    "### Applying mixup to training data"
   ]
  },
  {
   "cell_type": "code",
   "execution_count": 22,
   "metadata": {},
   "outputs": [],
   "source": [
    "def mixup(ds, alpha=0.2):\n",
    "    def mixup_batch(images, labels):\n",
    "        batch_size = tf.shape(images)[0]\n",
    "        indices = tf.random.shuffle(tf.range(batch_size))\n",
    "        \n",
    "        shuffled_images = tf.gather(images, indices)\n",
    "        shuffled_labels = tf.gather(labels, indices)\n",
    "        \n",
    "        lam = tfp.distributions.Beta(alpha, alpha).sample([batch_size])\n",
    "        lam_x = tf.reshape(lam, (batch_size, 1, 1, 1))\n",
    "        \n",
    "        mixed_images = images * lam_x + shuffled_images * (1 - lam_x)\n",
    "        mixed_labels = tf.cast(labels, tf.float32) * lam + tf.cast(shuffled_labels, tf.float32) * (1 - lam)\n",
    "        \n",
    "        return mixed_images, mixed_labels\n",
    "    \n",
    "    return ds.map(lambda images, labels: mixup_batch(images, labels), num_parallel_calls=tf.data.AUTOTUNE)\n",
    "\n",
    "# Apply mixup to the training data\n",
    "ds_train_mixup = mixup(ds_train)\n"
   ]
  },
  {
   "cell_type": "markdown",
   "metadata": {},
   "source": [
    "### Training"
   ]
  },
  {
   "cell_type": "code",
   "execution_count": 23,
   "metadata": {},
   "outputs": [],
   "source": [
    "callbacks = [\n",
    "    keras.callbacks.EarlyStopping(\n",
    "        patience=50, restore_best_weights=True),\n",
    "    keras.callbacks.ModelCheckpoint(\n",
    "        'best_model.keras', save_best_only=True),\n",
    "]"
   ]
  },
  {
   "cell_type": "code",
   "execution_count": 24,
   "metadata": {},
   "outputs": [],
   "source": [
    "# Compile the model with categorical crossentropy\n",
    "model_mixup = models.clone_model(loaded_model)\n",
    "model_mixup.compile(\n",
    "    optimizer='adam',\n",
    "    loss='sparse_categorical_crossentropy',\n",
    "    metrics=['accuracy']\n",
    ")"
   ]
  },
  {
   "cell_type": "code",
   "execution_count": null,
   "metadata": {},
   "outputs": [
    {
     "name": "stdout",
     "output_type": "stream",
     "text": [
      "\u001b[1m97/97\u001b[0m \u001b[32m━━━━━━━━━━━━━━━━━━━━\u001b[0m\u001b[37m\u001b[0m \u001b[1m391s\u001b[0m 4s/step - accuracy: 0.0014 - loss: 5.5301 - val_accuracy: 0.0098 - val_loss: 4.7469\n"
     ]
    }
   ],
   "source": [
    "epochs = 250  # Adjust the number of epochs as needed\n",
    "\n",
    "history_mixup = model_mixup.fit(\n",
    "    ds_train_mixup,\n",
    "    validation_data=ds_val,\n",
    "    epochs=epochs,\n",
    "    callbacks=callbacks\n",
    ")"
   ]
  },
  {
   "cell_type": "code",
   "execution_count": 26,
   "metadata": {},
   "outputs": [
    {
     "data": {
      "image/png": "[encoded data removed]",
      "text/plain": [
       "<Figure size 1200x400 with 2 Axes>"
      ]
     },
     "metadata": {},
     "output_type": "display_data"
    }
   ],
   "source": [
    "plot_history(history_mixup)"
   ]
  },
  {
   "cell_type": "markdown",
   "metadata": {},
   "source": [
    "### Evaluation"
   ]
  },
  {
   "cell_type": "code",
   "execution_count": 27,
   "metadata": {},
   "outputs": [
    {
     "name": "stdout",
     "output_type": "stream",
     "text": [
      "\u001b[1m16/16\u001b[0m \u001b[32m━━━━━━━━━━━━━━━━━━━━\u001b[0m\u001b[37m\u001b[0m \u001b[1m12s\u001b[0m 717ms/step - accuracy: 0.0105 - loss: 4.7368\n",
      "Test Accuracy with MixUp training data: 0.9804\n"
     ]
    }
   ],
   "source": [
    "# Evaluate\n",
    "test_loss, test_accuracy = model_mixup.evaluate(ds_test)\n",
    "print(f\"Test Accuracy with MixUp training data: {test_accuracy*100:.4f}\")"
   ]
  }
 ],
 "metadata": {
  "kernelspec": {
   "display_name": "base",
   "language": "python",
   "name": "python3"
  },
  "language_info": {
   "codemirror_mode": {
    "name": "ipython",
    "version": 3
   },
   "file_extension": ".py",
   "mimetype": "text/x-python",
   "name": "python",
   "nbconvert_exporter": "python",
   "pygments_lexer": "ipython3",
   "version": "3.12.4"
  }
 },
 "nbformat": 4,
 "nbformat_minor": 2
}
